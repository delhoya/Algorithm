{
  "nbformat": 4,
  "nbformat_minor": 0,
  "metadata": {
    "colab": {
      "name": "Queue_py.ipynb",
      "provenance": [],
      "authorship_tag": "ABX9TyMNff0IqzBdlC/RUbsirATR",
      "include_colab_link": true
    },
    "kernelspec": {
      "name": "python3",
      "display_name": "Python 3"
    }
  },
  "cells": [
    {
      "cell_type": "markdown",
      "metadata": {
        "id": "view-in-github",
        "colab_type": "text"
      },
      "source": [
        "<a href=\"https://colab.research.google.com/github/delhoya/Algorithm/blob/main/Queue_py.ipynb\" target=\"_parent\"><img src=\"https://colab.research.google.com/assets/colab-badge.svg\" alt=\"Open In Colab\"/></a>"
      ]
    },
    {
      "cell_type": "code",
      "metadata": {
        "colab": {
          "base_uri": "https://localhost:8080/"
        },
        "id": "etuG4VJ2N1JB",
        "outputId": "b4d646f1-c4de-45ab-b071-d95e9d3a83b6"
      },
      "source": [
        "class Queue:\n",
        "    def __init__(self):\n",
        "        self.container = list()       #1\n",
        "\n",
        "    def enqueue(self, data):\n",
        "        self.container.append(data)   #2\n",
        "\n",
        "    def dequeue(self):\n",
        "        return self.container.pop(0)  #3\n",
        "\n",
        "    def empty(self):\n",
        "        if not self.container:\n",
        "            return True\n",
        "        else:\n",
        "            return False\n",
        "\n",
        "    def peek(self):\n",
        "        return self.container[0]      #4\n",
        "\n",
        "if __name__ ==  '__main__':\n",
        "    q = Queue()\n",
        "    q.enqueue(1)\n",
        "    q.enqueue(2)\n",
        "    q.enqueue(3)\n",
        "    q.enqueue(4)\n",
        "    q.enqueue(5)\n",
        "\n",
        "    while not q.empty():\n",
        "        print(q.dequeue(), end = ' ')        "
      ],
      "execution_count": 5,
      "outputs": [
        {
          "output_type": "stream",
          "text": [
            "1 2 3 4 5 "
          ],
          "name": "stdout"
        }
      ]
    }
  ]
}