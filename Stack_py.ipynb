{
  "nbformat": 4,
  "nbformat_minor": 0,
  "metadata": {
    "colab": {
      "name": "Stack.py.ipynb",
      "provenance": [],
      "authorship_tag": "ABX9TyNtprUeXSbgFxxAvAJgebdV",
      "include_colab_link": true
    },
    "kernelspec": {
      "name": "python3",
      "display_name": "Python 3"
    }
  },
  "cells": [
    {
      "cell_type": "markdown",
      "metadata": {
        "id": "view-in-github",
        "colab_type": "text"
      },
      "source": [
        "<a href=\"https://colab.research.google.com/github/delhoya/Algorithm/blob/main/Stack_py.ipynb\" target=\"_parent\"><img src=\"https://colab.research.google.com/assets/colab-badge.svg\" alt=\"Open In Colab\"/></a>"
      ]
    },
    {
      "cell_type": "code",
      "metadata": {
        "colab": {
          "base_uri": "https://localhost:8080/"
        },
        "id": "HaEM4hD4MbYh",
        "outputId": "4cb47702-5c62-414e-dbca-b712d078c88e"
      },
      "source": [
        "# List를 활용한 Stack 구현\n",
        "class Stack(list):\n",
        "    def __init__(self):\n",
        "        self.stack = []\n",
        " \n",
        "    def push(self, data):\n",
        "        self.stack.append(data)\n",
        " \n",
        "    def pop(self):\n",
        "        if self.is_empty():\n",
        "            return -1\n",
        "        return self.stack.pop()\n",
        " \n",
        "    def peek(self):\n",
        "        return self.stack[-1]\n",
        " \n",
        "    def is_empty(self):\n",
        "        if len(self.stack) == 0:\n",
        "            return True\n",
        "        return False\n",
        " \n",
        " \n",
        "if __name__==\"__main__\":\n",
        "    s = Stack()\n",
        "    s.push(1)\n",
        "    s.push(2)\n",
        "    s.push(3)\n",
        "    print(s.peek()) # 3\n",
        "    print(s.pop()) # 3\n",
        "    print(s.pop()) # 2\n",
        "    print(s.pop()) # 1\n",
        "    print(s.pop()) # -1 (더 이상 존재하지 않음)\n",
        "\n"
      ],
      "execution_count": 4,
      "outputs": [
        {
          "output_type": "stream",
          "text": [
            "3\n",
            "3\n",
            "2\n",
            "1\n",
            "-1\n"
          ],
          "name": "stdout"
        }
      ]
    },
    {
      "cell_type": "code",
      "metadata": {
        "colab": {
          "base_uri": "https://localhost:8080/"
        },
        "id": "g7W_9k4ONWwQ",
        "outputId": "74257b1a-7542-497b-dfdf-066d2b8b1146"
      },
      "source": [
        "# Singly linked list를 활용한 Stack 구현\n",
        "class Node:\n",
        "    def __init__(self, data):\n",
        "        self.data = data\n",
        "        self.next = None\n",
        " \n",
        "class Stack:\n",
        "    def __init__(self):\n",
        "        self.head = None\n",
        " \n",
        "    def push(self, data):\n",
        "        new_node = Node(data)\n",
        "        new_node.next = self.head\n",
        "        self.head = new_node\n",
        " \n",
        "    def pop(self):\n",
        "        if self.is_empty():\n",
        "            return -1\n",
        "        data = self.head.data\n",
        "        self.head = self.head.next\n",
        "        return data\n",
        " \n",
        "    def is_empty(self):\n",
        "        if self.head:\n",
        "            return False\n",
        "        return True\n",
        " \n",
        "    def peek(self):\n",
        "        if self.is_empty():\n",
        "            return -1\n",
        "        return self.head.data\n",
        "\n",
        "\n",
        "if __name__==\"__main__\":\n",
        "    s = Stack()\n",
        "    s.push(1)\n",
        "    s.push(2)\n",
        "    s.push(3)\n",
        "    print(s.peek()) # 3\n",
        "    print(s.pop()) # 3\n",
        "    print(s.pop()) # 2\n",
        "    print(s.pop()) # 1\n",
        "    print(s.pop()) # -1 (더 이상 존재하지 않음)\n"
      ],
      "execution_count": 6,
      "outputs": [
        {
          "output_type": "stream",
          "text": [
            "3\n",
            "3\n",
            "2\n",
            "1\n",
            "-1\n"
          ],
          "name": "stdout"
        }
      ]
    }
  ]
}